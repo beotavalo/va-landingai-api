{
 "cells": [
  {
   "cell_type": "markdown",
   "metadata": {},
   "source": [
    "## Landing AI - Vision Agent\n",
    "**By: Braulio Otavalo**"
   ]
  },
  {
   "cell_type": "code",
   "execution_count": 10,
   "metadata": {},
   "outputs": [],
   "source": [
    "from dotenv import load_dotenv\n",
    "import os\n",
    "\n",
    "# Load environment variables from .env file\n",
    "load_dotenv()\n",
    "\n",
    "# Get the VA_API_KEY\n",
    "va_api_key = os.getenv('VA_API_KEY')"
   ]
  },
  {
   "cell_type": "code",
   "execution_count": 11,
   "metadata": {},
   "outputs": [],
   "source": [
    "import requests\n",
    "\n",
    "url = \"https://api.landing.ai/v1/tools/agentic-object-detection\"\n",
    "files = {\n",
    "  \"image\": open(\"/workspaces/va-landingai-api/data/paw patrol.jpg\", \"rb\")\n",
    "}\n",
    "data = {\n",
    "  \"prompts\": [ \"Recognize the helmet\"],\n",
    "  \"model\": \"agentic\"\n",
    "}\n",
    "headers = {\n",
    "  \"Authorization\": va_api_key,\n",
    "  \"Content-Type\": \"multipart/form-data\"\n",
    "}\n",
    "response = requests.post(url, files=files, data=data, headers=headers)"
   ]
  },
  {
   "cell_type": "code",
   "execution_count": 12,
   "metadata": {},
   "outputs": [
    {
     "data": {
      "text/plain": [
       "<Response [500]>"
      ]
     },
     "execution_count": 12,
     "metadata": {},
     "output_type": "execute_result"
    }
   ],
   "source": [
    "response"
   ]
  }
 ],
 "metadata": {
  "kernelspec": {
   "display_name": "va_env",
   "language": "python",
   "name": "python3"
  },
  "language_info": {
   "codemirror_mode": {
    "name": "ipython",
    "version": 3
   },
   "file_extension": ".py",
   "mimetype": "text/x-python",
   "name": "python",
   "nbconvert_exporter": "python",
   "pygments_lexer": "ipython3",
   "version": "3.12.9"
  }
 },
 "nbformat": 4,
 "nbformat_minor": 2
}
